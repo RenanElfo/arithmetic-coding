{
 "cells": [
  {
   "cell_type": "code",
   "execution_count": null,
   "metadata": {},
   "outputs": [],
   "source": [
    "import numpy as np"
   ]
  },
  {
   "cell_type": "code",
   "execution_count": null,
   "metadata": {},
   "outputs": [],
   "source": [
    "bits = '001'\n",
    "new_bit = '0'\n",
    "new_string = ''.join((bits[1:], str(new_bit)))\n",
    "print(new_string, type(new_string))"
   ]
  },
  {
   "cell_type": "code",
   "execution_count": null,
   "metadata": {},
   "outputs": [],
   "source": [
    "import numpy as np\n",
    "x = np.array([1, 0, 0]).astype(np.int8)\n",
    "np.packbits(x).tobytes()\n",
    "np.tile(x, 10)"
   ]
  },
  {
   "cell_type": "code",
   "execution_count": null,
   "metadata": {},
   "outputs": [],
   "source": [
    "import numpy as np\n",
    "\n",
    "x = np.array([1, 1, 0])\n",
    "np.dot(x, 1 << np.arange(x.size - 1, -1, -1))"
   ]
  },
  {
   "cell_type": "code",
   "execution_count": null,
   "metadata": {},
   "outputs": [],
   "source": [
    "import numpy as np\n",
    "\n",
    "x = bytes([255, 215, 176, 63, 64, 1, 17, 35, 48])\n",
    "type(x)\n",
    "y = [1, 2, 3]\n",
    "y[0:3]"
   ]
  },
  {
   "cell_type": "code",
   "execution_count": null,
   "metadata": {},
   "outputs": [],
   "source": [
    "import numpy as np\n",
    "\n",
    "\n",
    "def f(array: np.ndarray) -> int:\n",
    "    return np.sum(array)\n",
    "\n",
    "\n",
    "x = np.arange(64)\n",
    "x = x.reshape([int(x.size/8), 8])\n",
    "x = np.apply_along_axis(f, axis=1, arr=x)\n",
    "x"
   ]
  },
  {
   "cell_type": "code",
   "execution_count": null,
   "metadata": {},
   "outputs": [],
   "source": [
    "x = np.arange(64)\n",
    "x = x.reshape([int(x.size/8), 8])\n",
    "#np.sum(x[0])\n",
    "x"
   ]
  },
  {
   "cell_type": "code",
   "execution_count": null,
   "metadata": {},
   "outputs": [],
   "source": [
    "import numpy as np\n",
    "\n",
    "A = np.array([0, 3, 2, 4, 3, 6, 1, 4])\n",
    "# print(np.where(A >= 4))\n",
    "\n",
    "# idx_values = np.where(A >= 4)[0]\n",
    "# min_idx, max_idx = idx_values[[0, -1]]\n",
    "\n",
    "# print(idx_values, min_idx, max_idx)\n",
    "x = A >= 4\n",
    "print(x, ~x)"
   ]
  },
  {
   "cell_type": "code",
   "execution_count": 14,
   "metadata": {},
   "outputs": [
    {
     "data": {
      "text/plain": [
       "1"
      ]
     },
     "execution_count": 14,
     "metadata": {},
     "output_type": "execute_result"
    }
   ],
   "source": [
    "import numpy as np\n",
    "\n",
    "x = 0\n",
    "\n",
    "(x + 1) % 2"
   ]
  }
 ],
 "metadata": {
  "kernelspec": {
   "display_name": "general_purpose",
   "language": "python",
   "name": "python3"
  },
  "language_info": {
   "codemirror_mode": {
    "name": "ipython",
    "version": 3
   },
   "file_extension": ".py",
   "mimetype": "text/x-python",
   "name": "python",
   "nbconvert_exporter": "python",
   "pygments_lexer": "ipython3",
   "version": "3.11.5"
  }
 },
 "nbformat": 4,
 "nbformat_minor": 2
}

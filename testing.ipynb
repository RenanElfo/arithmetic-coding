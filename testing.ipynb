{
 "cells": [
  {
   "cell_type": "code",
   "execution_count": null,
   "metadata": {},
   "outputs": [],
   "source": [
    "from pathlib import Path\n",
    "\n",
    "filepath = Path(r'test.txt')"
   ]
  },
  {
   "cell_type": "code",
   "execution_count": null,
   "metadata": {},
   "outputs": [],
   "source": [
    "with open(filepath, 'r') as file:\n",
    "    lines = file.readlines()\n",
    "    order = lines[0][:-1]\n",
    "    bits = lines[1]\n",
    "    print(order, bits)"
   ]
  },
  {
   "cell_type": "code",
   "execution_count": null,
   "metadata": {},
   "outputs": [],
   "source": [
    "import numpy as np\n",
    "\n",
    "np.random.seed(0)\n",
    "p = 0.8\n",
    "x = (np.random.rand(1000000) > p).astype(np.int8)\n",
    "number_of_ones = np.count_nonzero(x)\n",
    "number_of_zeros = x.size - number_of_ones\n",
    "print(number_of_zeros, number_of_ones, number_of_zeros+number_of_ones)"
   ]
  },
  {
   "cell_type": "code",
   "execution_count": 1,
   "metadata": {},
   "outputs": [
    {
     "name": "stdout",
     "output_type": "stream",
     "text": [
      "{'000': 52, '001': 11, '010': 16, '011': 3, '100': 12, '101': 8, '110': 3, '111': 1} 106\n",
      "lower = (000000000)₂, upper = (111111111)₂\n",
      "0\n"
     ]
    }
   ],
   "source": [
    "import numpy as np\n",
    "\n",
    "ORDER = 2\n",
    "ORDER_PLUS = ORDER + 1\n",
    "SIZE = 100\n",
    "PROBABILITY_OF_ZERO = 0.80\n",
    "\n",
    "def initialize_dict() -> dict[str, int]:\n",
    "    \"\"\"Initialize ocurrance dictionary with default values.\"\"\"\n",
    "    occurrence_dictionary = dict()\n",
    "    for i in range(2**ORDER_PLUS):\n",
    "        occurrence = list(f'{i:b}')\n",
    "        while len(occurrence) != ORDER_PLUS:\n",
    "            occurrence.insert(0, '0')\n",
    "        occurrence = ''.join(occurrence)\n",
    "        occurrence_dictionary[occurrence] = 1\n",
    "    return occurrence_dictionary\n",
    "\n",
    "\n",
    "def generate_sequence(probability_of_zero) -> np.ndarray:\n",
    "    \"\"\"Generate random sequence of bits.\"\"\"\n",
    "    return (np.random.rand(SIZE) > probability_of_zero).astype(np.int8)\n",
    "\n",
    "\n",
    "def cut_and_reshape(array: np.ndarray, index: int) -> np.ndarray:\n",
    "    \"\"\"\n",
    "    Cut the array and reshape it.\n",
    "    \n",
    "    Given an index, cut the array at that index such that\n",
    "    the cut array has a length that is a multiple of one plus\n",
    "    the order of Markov used in the algorithm. Then reshape\n",
    "    the array such that each row has the number of elements equal\n",
    "    to the order plus one.\n",
    "    \"\"\"\n",
    "    remainder = (array.size%ORDER_PLUS)\n",
    "    if index - remainder < 0:\n",
    "        bit_array_cut = array[index:index-remainder]\n",
    "    elif index - remainder == 0:\n",
    "        bit_array_cut = array[index:]\n",
    "    else:\n",
    "        bit_array_cut = array[index:index-remainder-ORDER_PLUS]\n",
    "    bit_array_reshaped = bit_array_cut.reshape((bit_array_cut.size//ORDER_PLUS, ORDER_PLUS))\n",
    "    return bit_array_reshaped\n",
    "\n",
    "\n",
    "def update_ocurrence_dict(unique_tuple: tuple[np.ndarray, np.ndarray], ocurrence_dictionary: dict[str, int]) -> dict[str, int]:\n",
    "    \"\"\"Return updated occurrence dictionary.\"\"\"\n",
    "    for j in range(unique_tuple[0].shape[0]):\n",
    "        occurrence = ''.join([str(char) for char in unique_tuple[0][j].tolist()])\n",
    "        ocurrence_dictionary[occurrence] += unique_tuple[1][j]\n",
    "    return ocurrence_dictionary\n",
    "\n",
    "\n",
    "def occurrence_dict_from_sequence(sequence: np.ndarray) -> dict[str, int]:\n",
    "    occurrence_dictionary = initialize_dict()\n",
    "    for i in range(ORDER_PLUS):\n",
    "        bit_array_reshaped = cut_and_reshape(sequence, i)\n",
    "        unique_tuple = np.unique(bit_array_reshaped, axis=0, return_counts=True)\n",
    "        occurrence_dictionary = update_ocurrence_dict(unique_tuple, occurrence_dictionary)\n",
    "    return occurrence_dictionary\n",
    "\n",
    "\n",
    "\"\"\"Relevant code\"\"\"\n",
    "np.random.seed(4)\n",
    "bit_array = generate_sequence(PROBABILITY_OF_ZERO)\n",
    "occurrence_dictionary = occurrence_dict_from_sequence(bit_array)\n",
    "total_count = sum(occurrence_dictionary.values())\n",
    "print(occurrence_dictionary, total_count)\n",
    "\n",
    "class MBitLimits:\n",
    "    m: int\n",
    "    lower: int\n",
    "    upper: int\n",
    "\n",
    "    def __init__(self, total_occurrence_count):\n",
    "        self.m = int(2 + np.ceil(np.log2(total_occurrence_count)))\n",
    "        self.lower = 0\n",
    "        self.upper = 2**self.m - 1\n",
    "\n",
    "    def __repr__(self):\n",
    "        return f'lower = ({self.lower:0{self.m}b})₂, upper = ({self.upper:0{self.m}b})₂'\n",
    "\n",
    "    @property\n",
    "    def upper_left_most_bit(self):\n",
    "        return self.upper >> (self.m-1)\n",
    "\n",
    "    @property\n",
    "    def upper_second_left_most_bit(self):\n",
    "        return (self.upper >> (self.m-2)) - (self.upper_left_most_bit << 1)\n",
    "\n",
    "    @property\n",
    "    def lower_left_most_bit(self):\n",
    "        return self.lower >> (self.m-1)\n",
    "\n",
    "    @property\n",
    "    def lower_second_left_most_bit(self):\n",
    "        return (self.lower >> (self.m-2)) - (self.lower_left_most_bit << 1)\n",
    "\n",
    "limits = MBitLimits(total_count)\n",
    "print(limits)\n",
    "print(limits.lower_second_left_most_bit)"
   ]
  },
  {
   "cell_type": "code",
   "execution_count": null,
   "metadata": {},
   "outputs": [],
   "source": [
    "import numpy as np\n",
    "\n",
    "size = 10\n",
    "order_plus = 2\n",
    "print((size%order_plus) != 0, (size%order_plus))\n",
    "\n",
    "x = np.arange(size)\n",
    "#print(list(range(1+(size%order_plus))))\n",
    "#print(1-(size%order_plus))\n",
    "#print(x[:])\n",
    "\n",
    "for i in range(order_plus):\n",
    "    print(f'{i=}', end=': ')\n",
    "    if i-(size%order_plus) < 0:\n",
    "        print('case if')\n",
    "        y = x[i:i-(size%order_plus)]\n",
    "    elif i-(size%order_plus) == 0:\n",
    "        print('case elif')\n",
    "        y = x[i:]\n",
    "    else:\n",
    "        print('case else')\n",
    "        y = x[i:i-(size%order_plus)-order_plus]\n",
    "    print(y, len(y)%order_plus)"
   ]
  },
  {
   "cell_type": "code",
   "execution_count": null,
   "metadata": {},
   "outputs": [],
   "source": [
    "import numpy as np\n",
    "\n",
    "x = np.arange(5)\n",
    "x = x.tolist()\n",
    "x = ''.join([str(c) for c in x])\n",
    "x"
   ]
  },
  {
   "cell_type": "code",
   "execution_count": null,
   "metadata": {},
   "outputs": [],
   "source": [
    "np.log10(2**(62))"
   ]
  },
  {
   "cell_type": "code",
   "execution_count": null,
   "metadata": {},
   "outputs": [],
   "source": [
    "i = 2\n",
    "print(f'{i:03b}')"
   ]
  },
  {
   "cell_type": "code",
   "execution_count": null,
   "metadata": {},
   "outputs": [],
   "source": [
    "import numpy as np\n",
    "\n",
    "x = np.uint8(np.iinfo(np.uint8).max)\n",
    "type(x - 1)"
   ]
  },
  {
   "cell_type": "code",
   "execution_count": null,
   "metadata": {},
   "outputs": [],
   "source": [
    "txt = 'For only {price:.{m}f} dollars!'\n",
    "s = txt.format(price = 49, m = 2)\n",
    "print(s)"
   ]
  },
  {
   "cell_type": "code",
   "execution_count": null,
   "metadata": {},
   "outputs": [],
   "source": [
    "int('1111', 2)"
   ]
  }
 ],
 "metadata": {
  "kernelspec": {
   "display_name": "general_purpose",
   "language": "python",
   "name": "python3"
  },
  "language_info": {
   "codemirror_mode": {
    "name": "ipython",
    "version": 3
   },
   "file_extension": ".py",
   "mimetype": "text/x-python",
   "name": "python",
   "nbconvert_exporter": "python",
   "pygments_lexer": "ipython3",
   "version": "3.11.5"
  }
 },
 "nbformat": 4,
 "nbformat_minor": 2
}
